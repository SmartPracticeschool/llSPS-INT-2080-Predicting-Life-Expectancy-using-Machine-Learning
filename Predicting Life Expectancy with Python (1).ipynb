{
 "cells": [
  {
   "cell_type": "markdown",
   "metadata": {
    "collapsed": true
   },
   "source": [
    "# Predicting Life Expectancy Using Machine Learning"
   ]
  },
  {
   "cell_type": "markdown",
   "metadata": {},
   "source": [
    "<h3>Importing necessary libraries and dataset</h3>"
   ]
  },
  {
   "cell_type": "code",
   "execution_count": 1,
   "metadata": {},
   "outputs": [
    {
     "data": {
      "text/html": [
       "<div>\n",
       "<style scoped>\n",
       "    .dataframe tbody tr th:only-of-type {\n",
       "        vertical-align: middle;\n",
       "    }\n",
       "\n",
       "    .dataframe tbody tr th {\n",
       "        vertical-align: top;\n",
       "    }\n",
       "\n",
       "    .dataframe thead th {\n",
       "        text-align: right;\n",
       "    }\n",
       "</style>\n",
       "<table border=\"1\" class=\"dataframe\">\n",
       "  <thead>\n",
       "    <tr style=\"text-align: right;\">\n",
       "      <th></th>\n",
       "      <th>Country</th>\n",
       "      <th>Year</th>\n",
       "      <th>Status</th>\n",
       "      <th>Life expectancy</th>\n",
       "      <th>Adult Mortality</th>\n",
       "      <th>infant deaths</th>\n",
       "      <th>Alcohol</th>\n",
       "      <th>percentage expenditure</th>\n",
       "      <th>Hepatitis B</th>\n",
       "      <th>Measles</th>\n",
       "      <th>...</th>\n",
       "      <th>Polio</th>\n",
       "      <th>Total expenditure</th>\n",
       "      <th>Diphtheria</th>\n",
       "      <th>HIV/AIDS</th>\n",
       "      <th>GDP</th>\n",
       "      <th>Population</th>\n",
       "      <th>thinness  1-19 years</th>\n",
       "      <th>thinness 5-9 years</th>\n",
       "      <th>Income composition of resources</th>\n",
       "      <th>Schooling</th>\n",
       "    </tr>\n",
       "  </thead>\n",
       "  <tbody>\n",
       "    <tr>\n",
       "      <th>0</th>\n",
       "      <td>Afghanistan</td>\n",
       "      <td>2015</td>\n",
       "      <td>Developing</td>\n",
       "      <td>65.0</td>\n",
       "      <td>263.0</td>\n",
       "      <td>62</td>\n",
       "      <td>0.01</td>\n",
       "      <td>71.279624</td>\n",
       "      <td>65.0</td>\n",
       "      <td>1154</td>\n",
       "      <td>...</td>\n",
       "      <td>6.0</td>\n",
       "      <td>8.16</td>\n",
       "      <td>65.0</td>\n",
       "      <td>0.1</td>\n",
       "      <td>584.259210</td>\n",
       "      <td>33736494.0</td>\n",
       "      <td>17.2</td>\n",
       "      <td>17.3</td>\n",
       "      <td>0.479</td>\n",
       "      <td>10.1</td>\n",
       "    </tr>\n",
       "    <tr>\n",
       "      <th>1</th>\n",
       "      <td>Afghanistan</td>\n",
       "      <td>2014</td>\n",
       "      <td>Developing</td>\n",
       "      <td>59.9</td>\n",
       "      <td>271.0</td>\n",
       "      <td>64</td>\n",
       "      <td>0.01</td>\n",
       "      <td>73.523582</td>\n",
       "      <td>62.0</td>\n",
       "      <td>492</td>\n",
       "      <td>...</td>\n",
       "      <td>58.0</td>\n",
       "      <td>8.18</td>\n",
       "      <td>62.0</td>\n",
       "      <td>0.1</td>\n",
       "      <td>612.696514</td>\n",
       "      <td>327582.0</td>\n",
       "      <td>17.5</td>\n",
       "      <td>17.5</td>\n",
       "      <td>0.476</td>\n",
       "      <td>10.0</td>\n",
       "    </tr>\n",
       "    <tr>\n",
       "      <th>2</th>\n",
       "      <td>Afghanistan</td>\n",
       "      <td>2013</td>\n",
       "      <td>Developing</td>\n",
       "      <td>59.9</td>\n",
       "      <td>268.0</td>\n",
       "      <td>66</td>\n",
       "      <td>0.01</td>\n",
       "      <td>73.219243</td>\n",
       "      <td>64.0</td>\n",
       "      <td>430</td>\n",
       "      <td>...</td>\n",
       "      <td>62.0</td>\n",
       "      <td>8.13</td>\n",
       "      <td>64.0</td>\n",
       "      <td>0.1</td>\n",
       "      <td>631.744976</td>\n",
       "      <td>31731688.0</td>\n",
       "      <td>17.7</td>\n",
       "      <td>17.7</td>\n",
       "      <td>0.470</td>\n",
       "      <td>9.9</td>\n",
       "    </tr>\n",
       "    <tr>\n",
       "      <th>3</th>\n",
       "      <td>Afghanistan</td>\n",
       "      <td>2012</td>\n",
       "      <td>Developing</td>\n",
       "      <td>59.5</td>\n",
       "      <td>272.0</td>\n",
       "      <td>69</td>\n",
       "      <td>0.01</td>\n",
       "      <td>78.184215</td>\n",
       "      <td>67.0</td>\n",
       "      <td>2787</td>\n",
       "      <td>...</td>\n",
       "      <td>67.0</td>\n",
       "      <td>8.52</td>\n",
       "      <td>67.0</td>\n",
       "      <td>0.1</td>\n",
       "      <td>669.959000</td>\n",
       "      <td>3696958.0</td>\n",
       "      <td>17.9</td>\n",
       "      <td>18.0</td>\n",
       "      <td>0.463</td>\n",
       "      <td>9.8</td>\n",
       "    </tr>\n",
       "    <tr>\n",
       "      <th>4</th>\n",
       "      <td>Afghanistan</td>\n",
       "      <td>2011</td>\n",
       "      <td>Developing</td>\n",
       "      <td>59.2</td>\n",
       "      <td>275.0</td>\n",
       "      <td>71</td>\n",
       "      <td>0.01</td>\n",
       "      <td>7.097109</td>\n",
       "      <td>68.0</td>\n",
       "      <td>3013</td>\n",
       "      <td>...</td>\n",
       "      <td>68.0</td>\n",
       "      <td>7.87</td>\n",
       "      <td>68.0</td>\n",
       "      <td>0.1</td>\n",
       "      <td>63.537231</td>\n",
       "      <td>2978599.0</td>\n",
       "      <td>18.2</td>\n",
       "      <td>18.2</td>\n",
       "      <td>0.454</td>\n",
       "      <td>9.5</td>\n",
       "    </tr>\n",
       "  </tbody>\n",
       "</table>\n",
       "<p>5 rows × 22 columns</p>\n",
       "</div>"
      ],
      "text/plain": [
       "       Country  Year      Status  Life expectancy   Adult Mortality  \\\n",
       "0  Afghanistan  2015  Developing              65.0            263.0   \n",
       "1  Afghanistan  2014  Developing              59.9            271.0   \n",
       "2  Afghanistan  2013  Developing              59.9            268.0   \n",
       "3  Afghanistan  2012  Developing              59.5            272.0   \n",
       "4  Afghanistan  2011  Developing              59.2            275.0   \n",
       "\n",
       "   infant deaths  Alcohol  percentage expenditure  Hepatitis B  Measles   ...  \\\n",
       "0             62     0.01               71.279624         65.0      1154  ...   \n",
       "1             64     0.01               73.523582         62.0       492  ...   \n",
       "2             66     0.01               73.219243         64.0       430  ...   \n",
       "3             69     0.01               78.184215         67.0      2787  ...   \n",
       "4             71     0.01                7.097109         68.0      3013  ...   \n",
       "\n",
       "   Polio  Total expenditure  Diphtheria    HIV/AIDS         GDP  Population  \\\n",
       "0    6.0               8.16         65.0        0.1  584.259210  33736494.0   \n",
       "1   58.0               8.18         62.0        0.1  612.696514    327582.0   \n",
       "2   62.0               8.13         64.0        0.1  631.744976  31731688.0   \n",
       "3   67.0               8.52         67.0        0.1  669.959000   3696958.0   \n",
       "4   68.0               7.87         68.0        0.1   63.537231   2978599.0   \n",
       "\n",
       "    thinness  1-19 years   thinness 5-9 years  \\\n",
       "0                   17.2                 17.3   \n",
       "1                   17.5                 17.5   \n",
       "2                   17.7                 17.7   \n",
       "3                   17.9                 18.0   \n",
       "4                   18.2                 18.2   \n",
       "\n",
       "   Income composition of resources  Schooling  \n",
       "0                            0.479       10.1  \n",
       "1                            0.476       10.0  \n",
       "2                            0.470        9.9  \n",
       "3                            0.463        9.8  \n",
       "4                            0.454        9.5  \n",
       "\n",
       "[5 rows x 22 columns]"
      ]
     },
     "execution_count": 1,
     "metadata": {},
     "output_type": "execute_result"
    }
   ],
   "source": [
    "import numpy as np\n",
    "import matplotlib.pyplot as plt\n",
    "import seaborn as sns\n",
    "\n",
    "import types\n",
    "import pandas as pd\n",
    "from botocore.client import Config\n",
    "import ibm_boto3\n",
    "%matplotlib inline\n",
    "\n",
    "def __iter__(self): return 0\n",
    "\n",
    "# @hidden_cell\n",
    "# The following code accesses a file in your IBM Cloud Object Storage. It includes your credentials.\n",
    "# You might want to remove those credentials before you share the notebook.\n",
    "client_4b43c54c583841f880c5a22f2a2a920d = ibm_boto3.client(service_name='s3',\n",
    "    ibm_api_key_id='****',\n",
    "    ibm_auth_endpoint=\"https://iam.cloud.ibm.com/oidc/token\",\n",
    "    config=Config(signature_version='oauth'),\n",
    "    endpoint_url='https://s3-api.us-geo.objectstorage.service.networklayer.com')\n",
    "\n",
    "body = client_4b43c54c583841f880c5a22f2a2a920d.get_object(Bucket='predictinglifeexpectancy-donotdelete-pr-u8zn3zg1prnnoc',Key='Life Expectancy Data.csv')['Body']\n",
    "# add missing __iter__ method, so pandas accepts body as file-like object\n",
    "if not hasattr(body, \"__iter__\"): body.__iter__ = types.MethodType( __iter__, body )\n",
    "\n",
    "df = pd.read_csv(body)\n",
    "df.head()\n"
   ]
  },
  {
   "cell_type": "code",
   "execution_count": 2,
   "metadata": {},
   "outputs": [
    {
     "data": {
      "text/plain": [
       "Index(['Country', 'Year', 'Status', 'Life expectancy ', 'Adult Mortality',\n",
       "       'infant deaths', 'Alcohol', 'percentage expenditure', 'Hepatitis B',\n",
       "       'Measles ', ' BMI ', 'under-five deaths ', 'Polio', 'Total expenditure',\n",
       "       'Diphtheria ', ' HIV/AIDS', 'GDP', 'Population',\n",
       "       ' thinness  1-19 years', ' thinness 5-9 years',\n",
       "       'Income composition of resources', 'Schooling'],\n",
       "      dtype='object')"
      ]
     },
     "execution_count": 2,
     "metadata": {},
     "output_type": "execute_result"
    }
   ],
   "source": [
    "df.columns"
   ]
  },
  {
   "cell_type": "markdown",
   "metadata": {},
   "source": [
    "<h3>Renaming columns</h3>"
   ]
  },
  {
   "cell_type": "code",
   "execution_count": 3,
   "metadata": {},
   "outputs": [
    {
     "data": {
      "text/html": [
       "<div>\n",
       "<style scoped>\n",
       "    .dataframe tbody tr th:only-of-type {\n",
       "        vertical-align: middle;\n",
       "    }\n",
       "\n",
       "    .dataframe tbody tr th {\n",
       "        vertical-align: top;\n",
       "    }\n",
       "\n",
       "    .dataframe thead th {\n",
       "        text-align: right;\n",
       "    }\n",
       "</style>\n",
       "<table border=\"1\" class=\"dataframe\">\n",
       "  <thead>\n",
       "    <tr style=\"text-align: right;\">\n",
       "      <th></th>\n",
       "      <th>Country</th>\n",
       "      <th>Year</th>\n",
       "      <th>Status</th>\n",
       "      <th>Life expectancy</th>\n",
       "      <th>Adult Mortality</th>\n",
       "      <th>Infant deaths</th>\n",
       "      <th>Alcohol</th>\n",
       "      <th>Healthcare expenditure</th>\n",
       "      <th>Hepatitis B</th>\n",
       "      <th>Measles</th>\n",
       "      <th>...</th>\n",
       "      <th>Polio</th>\n",
       "      <th>Total expenditure</th>\n",
       "      <th>Diphtheria</th>\n",
       "      <th>HIV/AIDS</th>\n",
       "      <th>GDP</th>\n",
       "      <th>Population</th>\n",
       "      <th>Thinness 1-19 years</th>\n",
       "      <th>Thinness 5-9 years</th>\n",
       "      <th>Income</th>\n",
       "      <th>Schooling</th>\n",
       "    </tr>\n",
       "  </thead>\n",
       "  <tbody>\n",
       "    <tr>\n",
       "      <th>0</th>\n",
       "      <td>Afghanistan</td>\n",
       "      <td>2015</td>\n",
       "      <td>Developing</td>\n",
       "      <td>65.0</td>\n",
       "      <td>263.0</td>\n",
       "      <td>62</td>\n",
       "      <td>0.01</td>\n",
       "      <td>71.279624</td>\n",
       "      <td>65.0</td>\n",
       "      <td>1154</td>\n",
       "      <td>...</td>\n",
       "      <td>6.0</td>\n",
       "      <td>8.16</td>\n",
       "      <td>65.0</td>\n",
       "      <td>0.1</td>\n",
       "      <td>584.259210</td>\n",
       "      <td>33736494.0</td>\n",
       "      <td>17.2</td>\n",
       "      <td>17.3</td>\n",
       "      <td>0.479</td>\n",
       "      <td>10.1</td>\n",
       "    </tr>\n",
       "    <tr>\n",
       "      <th>1</th>\n",
       "      <td>Afghanistan</td>\n",
       "      <td>2014</td>\n",
       "      <td>Developing</td>\n",
       "      <td>59.9</td>\n",
       "      <td>271.0</td>\n",
       "      <td>64</td>\n",
       "      <td>0.01</td>\n",
       "      <td>73.523582</td>\n",
       "      <td>62.0</td>\n",
       "      <td>492</td>\n",
       "      <td>...</td>\n",
       "      <td>58.0</td>\n",
       "      <td>8.18</td>\n",
       "      <td>62.0</td>\n",
       "      <td>0.1</td>\n",
       "      <td>612.696514</td>\n",
       "      <td>327582.0</td>\n",
       "      <td>17.5</td>\n",
       "      <td>17.5</td>\n",
       "      <td>0.476</td>\n",
       "      <td>10.0</td>\n",
       "    </tr>\n",
       "    <tr>\n",
       "      <th>2</th>\n",
       "      <td>Afghanistan</td>\n",
       "      <td>2013</td>\n",
       "      <td>Developing</td>\n",
       "      <td>59.9</td>\n",
       "      <td>268.0</td>\n",
       "      <td>66</td>\n",
       "      <td>0.01</td>\n",
       "      <td>73.219243</td>\n",
       "      <td>64.0</td>\n",
       "      <td>430</td>\n",
       "      <td>...</td>\n",
       "      <td>62.0</td>\n",
       "      <td>8.13</td>\n",
       "      <td>64.0</td>\n",
       "      <td>0.1</td>\n",
       "      <td>631.744976</td>\n",
       "      <td>31731688.0</td>\n",
       "      <td>17.7</td>\n",
       "      <td>17.7</td>\n",
       "      <td>0.470</td>\n",
       "      <td>9.9</td>\n",
       "    </tr>\n",
       "    <tr>\n",
       "      <th>3</th>\n",
       "      <td>Afghanistan</td>\n",
       "      <td>2012</td>\n",
       "      <td>Developing</td>\n",
       "      <td>59.5</td>\n",
       "      <td>272.0</td>\n",
       "      <td>69</td>\n",
       "      <td>0.01</td>\n",
       "      <td>78.184215</td>\n",
       "      <td>67.0</td>\n",
       "      <td>2787</td>\n",
       "      <td>...</td>\n",
       "      <td>67.0</td>\n",
       "      <td>8.52</td>\n",
       "      <td>67.0</td>\n",
       "      <td>0.1</td>\n",
       "      <td>669.959000</td>\n",
       "      <td>3696958.0</td>\n",
       "      <td>17.9</td>\n",
       "      <td>18.0</td>\n",
       "      <td>0.463</td>\n",
       "      <td>9.8</td>\n",
       "    </tr>\n",
       "    <tr>\n",
       "      <th>4</th>\n",
       "      <td>Afghanistan</td>\n",
       "      <td>2011</td>\n",
       "      <td>Developing</td>\n",
       "      <td>59.2</td>\n",
       "      <td>275.0</td>\n",
       "      <td>71</td>\n",
       "      <td>0.01</td>\n",
       "      <td>7.097109</td>\n",
       "      <td>68.0</td>\n",
       "      <td>3013</td>\n",
       "      <td>...</td>\n",
       "      <td>68.0</td>\n",
       "      <td>7.87</td>\n",
       "      <td>68.0</td>\n",
       "      <td>0.1</td>\n",
       "      <td>63.537231</td>\n",
       "      <td>2978599.0</td>\n",
       "      <td>18.2</td>\n",
       "      <td>18.2</td>\n",
       "      <td>0.454</td>\n",
       "      <td>9.5</td>\n",
       "    </tr>\n",
       "  </tbody>\n",
       "</table>\n",
       "<p>5 rows × 22 columns</p>\n",
       "</div>"
      ],
      "text/plain": [
       "       Country  Year      Status  Life expectancy  Adult Mortality  \\\n",
       "0  Afghanistan  2015  Developing             65.0            263.0   \n",
       "1  Afghanistan  2014  Developing             59.9            271.0   \n",
       "2  Afghanistan  2013  Developing             59.9            268.0   \n",
       "3  Afghanistan  2012  Developing             59.5            272.0   \n",
       "4  Afghanistan  2011  Developing             59.2            275.0   \n",
       "\n",
       "   Infant deaths  Alcohol  Healthcare expenditure  Hepatitis B  Measles  ...  \\\n",
       "0             62     0.01               71.279624         65.0     1154  ...   \n",
       "1             64     0.01               73.523582         62.0      492  ...   \n",
       "2             66     0.01               73.219243         64.0      430  ...   \n",
       "3             69     0.01               78.184215         67.0     2787  ...   \n",
       "4             71     0.01                7.097109         68.0     3013  ...   \n",
       "\n",
       "   Polio  Total expenditure  Diphtheria  HIV/AIDS         GDP  Population  \\\n",
       "0    6.0               8.16        65.0       0.1  584.259210  33736494.0   \n",
       "1   58.0               8.18        62.0       0.1  612.696514    327582.0   \n",
       "2   62.0               8.13        64.0       0.1  631.744976  31731688.0   \n",
       "3   67.0               8.52        67.0       0.1  669.959000   3696958.0   \n",
       "4   68.0               7.87        68.0       0.1   63.537231   2978599.0   \n",
       "\n",
       "   Thinness 1-19 years  Thinness 5-9 years  Income  Schooling  \n",
       "0                 17.2                17.3   0.479       10.1  \n",
       "1                 17.5                17.5   0.476       10.0  \n",
       "2                 17.7                17.7   0.470        9.9  \n",
       "3                 17.9                18.0   0.463        9.8  \n",
       "4                 18.2                18.2   0.454        9.5  \n",
       "\n",
       "[5 rows x 22 columns]"
      ]
     },
     "execution_count": 3,
     "metadata": {},
     "output_type": "execute_result"
    }
   ],
   "source": [
    "df.rename(columns = {'Life expectancy ' : 'Life expectancy', 'infant deaths' : 'Infant deaths', 'percentage expenditure' : 'Healthcare expenditure', 'Measles ' : 'Measles', ' BMI ' : 'BMI', 'under-five deaths ' : 'Under-five deaths', 'Diphtheria ' : 'Diphtheria', ' HIV/AIDS' : 'HIV/AIDS', ' thinness  1-19 years' : 'Thinness 1-19 years', ' thinness 5-9 years' : 'Thinness 5-9 years', 'Income composition of resources' : 'Income'}, inplace = True)\n",
    "df.head()"
   ]
  },
  {
   "cell_type": "code",
   "execution_count": 4,
   "metadata": {},
   "outputs": [
    {
     "data": {
      "text/html": [
       "<div>\n",
       "<style scoped>\n",
       "    .dataframe tbody tr th:only-of-type {\n",
       "        vertical-align: middle;\n",
       "    }\n",
       "\n",
       "    .dataframe tbody tr th {\n",
       "        vertical-align: top;\n",
       "    }\n",
       "\n",
       "    .dataframe thead th {\n",
       "        text-align: right;\n",
       "    }\n",
       "</style>\n",
       "<table border=\"1\" class=\"dataframe\">\n",
       "  <thead>\n",
       "    <tr style=\"text-align: right;\">\n",
       "      <th></th>\n",
       "      <th>Year</th>\n",
       "      <th>Life expectancy</th>\n",
       "      <th>Adult Mortality</th>\n",
       "      <th>Infant deaths</th>\n",
       "      <th>Alcohol</th>\n",
       "      <th>Healthcare expenditure</th>\n",
       "      <th>Hepatitis B</th>\n",
       "      <th>Measles</th>\n",
       "      <th>BMI</th>\n",
       "      <th>Under-five deaths</th>\n",
       "      <th>Polio</th>\n",
       "      <th>Total expenditure</th>\n",
       "      <th>Diphtheria</th>\n",
       "      <th>HIV/AIDS</th>\n",
       "      <th>GDP</th>\n",
       "      <th>Population</th>\n",
       "      <th>Thinness 1-19 years</th>\n",
       "      <th>Thinness 5-9 years</th>\n",
       "      <th>Income</th>\n",
       "      <th>Schooling</th>\n",
       "    </tr>\n",
       "  </thead>\n",
       "  <tbody>\n",
       "    <tr>\n",
       "      <th>count</th>\n",
       "      <td>2938.000000</td>\n",
       "      <td>2928.000000</td>\n",
       "      <td>2928.000000</td>\n",
       "      <td>2938.000000</td>\n",
       "      <td>2744.000000</td>\n",
       "      <td>2938.000000</td>\n",
       "      <td>2385.000000</td>\n",
       "      <td>2938.000000</td>\n",
       "      <td>2904.000000</td>\n",
       "      <td>2938.000000</td>\n",
       "      <td>2919.000000</td>\n",
       "      <td>2712.00000</td>\n",
       "      <td>2919.000000</td>\n",
       "      <td>2938.000000</td>\n",
       "      <td>2490.000000</td>\n",
       "      <td>2.286000e+03</td>\n",
       "      <td>2904.000000</td>\n",
       "      <td>2904.000000</td>\n",
       "      <td>2771.000000</td>\n",
       "      <td>2775.000000</td>\n",
       "    </tr>\n",
       "    <tr>\n",
       "      <th>mean</th>\n",
       "      <td>2007.518720</td>\n",
       "      <td>69.224932</td>\n",
       "      <td>164.796448</td>\n",
       "      <td>30.303948</td>\n",
       "      <td>4.602861</td>\n",
       "      <td>738.251295</td>\n",
       "      <td>80.940461</td>\n",
       "      <td>2419.592240</td>\n",
       "      <td>38.321247</td>\n",
       "      <td>42.035739</td>\n",
       "      <td>82.550188</td>\n",
       "      <td>5.93819</td>\n",
       "      <td>82.324084</td>\n",
       "      <td>1.742103</td>\n",
       "      <td>7483.158469</td>\n",
       "      <td>1.275338e+07</td>\n",
       "      <td>4.839704</td>\n",
       "      <td>4.870317</td>\n",
       "      <td>0.627551</td>\n",
       "      <td>11.992793</td>\n",
       "    </tr>\n",
       "    <tr>\n",
       "      <th>std</th>\n",
       "      <td>4.613841</td>\n",
       "      <td>9.523867</td>\n",
       "      <td>124.292079</td>\n",
       "      <td>117.926501</td>\n",
       "      <td>4.052413</td>\n",
       "      <td>1987.914858</td>\n",
       "      <td>25.070016</td>\n",
       "      <td>11467.272489</td>\n",
       "      <td>20.044034</td>\n",
       "      <td>160.445548</td>\n",
       "      <td>23.428046</td>\n",
       "      <td>2.49832</td>\n",
       "      <td>23.716912</td>\n",
       "      <td>5.077785</td>\n",
       "      <td>14270.169342</td>\n",
       "      <td>6.101210e+07</td>\n",
       "      <td>4.420195</td>\n",
       "      <td>4.508882</td>\n",
       "      <td>0.210904</td>\n",
       "      <td>3.358920</td>\n",
       "    </tr>\n",
       "    <tr>\n",
       "      <th>min</th>\n",
       "      <td>2000.000000</td>\n",
       "      <td>36.300000</td>\n",
       "      <td>1.000000</td>\n",
       "      <td>0.000000</td>\n",
       "      <td>0.010000</td>\n",
       "      <td>0.000000</td>\n",
       "      <td>1.000000</td>\n",
       "      <td>0.000000</td>\n",
       "      <td>1.000000</td>\n",
       "      <td>0.000000</td>\n",
       "      <td>3.000000</td>\n",
       "      <td>0.37000</td>\n",
       "      <td>2.000000</td>\n",
       "      <td>0.100000</td>\n",
       "      <td>1.681350</td>\n",
       "      <td>3.400000e+01</td>\n",
       "      <td>0.100000</td>\n",
       "      <td>0.100000</td>\n",
       "      <td>0.000000</td>\n",
       "      <td>0.000000</td>\n",
       "    </tr>\n",
       "    <tr>\n",
       "      <th>25%</th>\n",
       "      <td>2004.000000</td>\n",
       "      <td>63.100000</td>\n",
       "      <td>74.000000</td>\n",
       "      <td>0.000000</td>\n",
       "      <td>0.877500</td>\n",
       "      <td>4.685343</td>\n",
       "      <td>77.000000</td>\n",
       "      <td>0.000000</td>\n",
       "      <td>19.300000</td>\n",
       "      <td>0.000000</td>\n",
       "      <td>78.000000</td>\n",
       "      <td>4.26000</td>\n",
       "      <td>78.000000</td>\n",
       "      <td>0.100000</td>\n",
       "      <td>463.935626</td>\n",
       "      <td>1.957932e+05</td>\n",
       "      <td>1.600000</td>\n",
       "      <td>1.500000</td>\n",
       "      <td>0.493000</td>\n",
       "      <td>10.100000</td>\n",
       "    </tr>\n",
       "    <tr>\n",
       "      <th>50%</th>\n",
       "      <td>2008.000000</td>\n",
       "      <td>72.100000</td>\n",
       "      <td>144.000000</td>\n",
       "      <td>3.000000</td>\n",
       "      <td>3.755000</td>\n",
       "      <td>64.912906</td>\n",
       "      <td>92.000000</td>\n",
       "      <td>17.000000</td>\n",
       "      <td>43.500000</td>\n",
       "      <td>4.000000</td>\n",
       "      <td>93.000000</td>\n",
       "      <td>5.75500</td>\n",
       "      <td>93.000000</td>\n",
       "      <td>0.100000</td>\n",
       "      <td>1766.947595</td>\n",
       "      <td>1.386542e+06</td>\n",
       "      <td>3.300000</td>\n",
       "      <td>3.300000</td>\n",
       "      <td>0.677000</td>\n",
       "      <td>12.300000</td>\n",
       "    </tr>\n",
       "    <tr>\n",
       "      <th>75%</th>\n",
       "      <td>2012.000000</td>\n",
       "      <td>75.700000</td>\n",
       "      <td>228.000000</td>\n",
       "      <td>22.000000</td>\n",
       "      <td>7.702500</td>\n",
       "      <td>441.534144</td>\n",
       "      <td>97.000000</td>\n",
       "      <td>360.250000</td>\n",
       "      <td>56.200000</td>\n",
       "      <td>28.000000</td>\n",
       "      <td>97.000000</td>\n",
       "      <td>7.49250</td>\n",
       "      <td>97.000000</td>\n",
       "      <td>0.800000</td>\n",
       "      <td>5910.806335</td>\n",
       "      <td>7.420359e+06</td>\n",
       "      <td>7.200000</td>\n",
       "      <td>7.200000</td>\n",
       "      <td>0.779000</td>\n",
       "      <td>14.300000</td>\n",
       "    </tr>\n",
       "    <tr>\n",
       "      <th>max</th>\n",
       "      <td>2015.000000</td>\n",
       "      <td>89.000000</td>\n",
       "      <td>723.000000</td>\n",
       "      <td>1800.000000</td>\n",
       "      <td>17.870000</td>\n",
       "      <td>19479.911610</td>\n",
       "      <td>99.000000</td>\n",
       "      <td>212183.000000</td>\n",
       "      <td>87.300000</td>\n",
       "      <td>2500.000000</td>\n",
       "      <td>99.000000</td>\n",
       "      <td>17.60000</td>\n",
       "      <td>99.000000</td>\n",
       "      <td>50.600000</td>\n",
       "      <td>119172.741800</td>\n",
       "      <td>1.293859e+09</td>\n",
       "      <td>27.700000</td>\n",
       "      <td>28.600000</td>\n",
       "      <td>0.948000</td>\n",
       "      <td>20.700000</td>\n",
       "    </tr>\n",
       "  </tbody>\n",
       "</table>\n",
       "</div>"
      ],
      "text/plain": [
       "              Year  Life expectancy  Adult Mortality  Infant deaths  \\\n",
       "count  2938.000000      2928.000000      2928.000000    2938.000000   \n",
       "mean   2007.518720        69.224932       164.796448      30.303948   \n",
       "std       4.613841         9.523867       124.292079     117.926501   \n",
       "min    2000.000000        36.300000         1.000000       0.000000   \n",
       "25%    2004.000000        63.100000        74.000000       0.000000   \n",
       "50%    2008.000000        72.100000       144.000000       3.000000   \n",
       "75%    2012.000000        75.700000       228.000000      22.000000   \n",
       "max    2015.000000        89.000000       723.000000    1800.000000   \n",
       "\n",
       "           Alcohol  Healthcare expenditure  Hepatitis B        Measles  \\\n",
       "count  2744.000000             2938.000000  2385.000000    2938.000000   \n",
       "mean      4.602861              738.251295    80.940461    2419.592240   \n",
       "std       4.052413             1987.914858    25.070016   11467.272489   \n",
       "min       0.010000                0.000000     1.000000       0.000000   \n",
       "25%       0.877500                4.685343    77.000000       0.000000   \n",
       "50%       3.755000               64.912906    92.000000      17.000000   \n",
       "75%       7.702500              441.534144    97.000000     360.250000   \n",
       "max      17.870000            19479.911610    99.000000  212183.000000   \n",
       "\n",
       "               BMI  Under-five deaths        Polio  Total expenditure  \\\n",
       "count  2904.000000        2938.000000  2919.000000         2712.00000   \n",
       "mean     38.321247          42.035739    82.550188            5.93819   \n",
       "std      20.044034         160.445548    23.428046            2.49832   \n",
       "min       1.000000           0.000000     3.000000            0.37000   \n",
       "25%      19.300000           0.000000    78.000000            4.26000   \n",
       "50%      43.500000           4.000000    93.000000            5.75500   \n",
       "75%      56.200000          28.000000    97.000000            7.49250   \n",
       "max      87.300000        2500.000000    99.000000           17.60000   \n",
       "\n",
       "        Diphtheria     HIV/AIDS            GDP    Population  \\\n",
       "count  2919.000000  2938.000000    2490.000000  2.286000e+03   \n",
       "mean     82.324084     1.742103    7483.158469  1.275338e+07   \n",
       "std      23.716912     5.077785   14270.169342  6.101210e+07   \n",
       "min       2.000000     0.100000       1.681350  3.400000e+01   \n",
       "25%      78.000000     0.100000     463.935626  1.957932e+05   \n",
       "50%      93.000000     0.100000    1766.947595  1.386542e+06   \n",
       "75%      97.000000     0.800000    5910.806335  7.420359e+06   \n",
       "max      99.000000    50.600000  119172.741800  1.293859e+09   \n",
       "\n",
       "       Thinness 1-19 years  Thinness 5-9 years       Income    Schooling  \n",
       "count          2904.000000         2904.000000  2771.000000  2775.000000  \n",
       "mean              4.839704            4.870317     0.627551    11.992793  \n",
       "std               4.420195            4.508882     0.210904     3.358920  \n",
       "min               0.100000            0.100000     0.000000     0.000000  \n",
       "25%               1.600000            1.500000     0.493000    10.100000  \n",
       "50%               3.300000            3.300000     0.677000    12.300000  \n",
       "75%               7.200000            7.200000     0.779000    14.300000  \n",
       "max              27.700000           28.600000     0.948000    20.700000  "
      ]
     },
     "execution_count": 4,
     "metadata": {},
     "output_type": "execute_result"
    }
   ],
   "source": [
    "df.describe()"
   ]
  },
  {
   "cell_type": "code",
   "execution_count": 5,
   "metadata": {},
   "outputs": [
    {
     "name": "stdout",
     "output_type": "stream",
     "text": [
      "<class 'pandas.core.frame.DataFrame'>\n",
      "RangeIndex: 2938 entries, 0 to 2937\n",
      "Data columns (total 22 columns):\n",
      "Country                   2938 non-null object\n",
      "Year                      2938 non-null int64\n",
      "Status                    2938 non-null object\n",
      "Life expectancy           2928 non-null float64\n",
      "Adult Mortality           2928 non-null float64\n",
      "Infant deaths             2938 non-null int64\n",
      "Alcohol                   2744 non-null float64\n",
      "Healthcare expenditure    2938 non-null float64\n",
      "Hepatitis B               2385 non-null float64\n",
      "Measles                   2938 non-null int64\n",
      "BMI                       2904 non-null float64\n",
      "Under-five deaths         2938 non-null int64\n",
      "Polio                     2919 non-null float64\n",
      "Total expenditure         2712 non-null float64\n",
      "Diphtheria                2919 non-null float64\n",
      "HIV/AIDS                  2938 non-null float64\n",
      "GDP                       2490 non-null float64\n",
      "Population                2286 non-null float64\n",
      "Thinness 1-19 years       2904 non-null float64\n",
      "Thinness 5-9 years        2904 non-null float64\n",
      "Income                    2771 non-null float64\n",
      "Schooling                 2775 non-null float64\n",
      "dtypes: float64(16), int64(4), object(2)\n",
      "memory usage: 505.0+ KB\n"
     ]
    }
   ],
   "source": [
    "df.info()"
   ]
  },
  {
   "cell_type": "markdown",
   "metadata": {},
   "source": [
    "<h3>Dimension of Dataset</h3>"
   ]
  },
  {
   "cell_type": "code",
   "execution_count": 6,
   "metadata": {},
   "outputs": [
    {
     "data": {
      "text/plain": [
       "(2938, 22)"
      ]
     },
     "execution_count": 6,
     "metadata": {},
     "output_type": "execute_result"
    }
   ],
   "source": [
    "df.shape"
   ]
  },
  {
   "cell_type": "markdown",
   "metadata": {},
   "source": [
    "<h3>Replacing missing data with mean</h3>"
   ]
  },
  {
   "cell_type": "code",
   "execution_count": 7,
   "metadata": {},
   "outputs": [
    {
     "data": {
      "text/plain": [
       "Country                     0\n",
       "Year                        0\n",
       "Status                      0\n",
       "Life expectancy            10\n",
       "Adult Mortality            10\n",
       "Infant deaths               0\n",
       "Alcohol                   194\n",
       "Healthcare expenditure      0\n",
       "Hepatitis B               553\n",
       "Measles                     0\n",
       "BMI                        34\n",
       "Under-five deaths           0\n",
       "Polio                      19\n",
       "Total expenditure         226\n",
       "Diphtheria                 19\n",
       "HIV/AIDS                    0\n",
       "GDP                       448\n",
       "Population                652\n",
       "Thinness 1-19 years        34\n",
       "Thinness 5-9 years         34\n",
       "Income                    167\n",
       "Schooling                 163\n",
       "dtype: int64"
      ]
     },
     "execution_count": 7,
     "metadata": {},
     "output_type": "execute_result"
    }
   ],
   "source": [
    "df.isnull().sum()"
   ]
  },
  {
   "cell_type": "code",
   "execution_count": 8,
   "metadata": {},
   "outputs": [],
   "source": [
    "df.fillna(df.mean(), inplace = True)"
   ]
  },
  {
   "cell_type": "code",
   "execution_count": 9,
   "metadata": {},
   "outputs": [
    {
     "data": {
      "text/plain": [
       "Country                   0\n",
       "Year                      0\n",
       "Status                    0\n",
       "Life expectancy           0\n",
       "Adult Mortality           0\n",
       "Infant deaths             0\n",
       "Alcohol                   0\n",
       "Healthcare expenditure    0\n",
       "Hepatitis B               0\n",
       "Measles                   0\n",
       "BMI                       0\n",
       "Under-five deaths         0\n",
       "Polio                     0\n",
       "Total expenditure         0\n",
       "Diphtheria                0\n",
       "HIV/AIDS                  0\n",
       "GDP                       0\n",
       "Population                0\n",
       "Thinness 1-19 years       0\n",
       "Thinness 5-9 years        0\n",
       "Income                    0\n",
       "Schooling                 0\n",
       "dtype: int64"
      ]
     },
     "execution_count": 9,
     "metadata": {},
     "output_type": "execute_result"
    }
   ],
   "source": [
    "df.isnull().sum()"
   ]
  },
  {
   "cell_type": "markdown",
   "metadata": {},
   "source": [
    "<h3>Mapping object datatype</h3>"
   ]
  },
  {
   "cell_type": "code",
   "execution_count": 10,
   "metadata": {},
   "outputs": [
    {
     "data": {
      "text/plain": [
       "array(['Developing', 'Developed'], dtype=object)"
      ]
     },
     "execution_count": 10,
     "metadata": {},
     "output_type": "execute_result"
    }
   ],
   "source": [
    "df.Status.unique()"
   ]
  },
  {
   "cell_type": "code",
   "execution_count": 11,
   "metadata": {},
   "outputs": [],
   "source": [
    "df['Status'] = df.Status.map({'Developing':0, 'Developed':1})"
   ]
  },
  {
   "cell_type": "code",
   "execution_count": 12,
   "metadata": {},
   "outputs": [
    {
     "data": {
      "text/html": [
       "<div>\n",
       "<style scoped>\n",
       "    .dataframe tbody tr th:only-of-type {\n",
       "        vertical-align: middle;\n",
       "    }\n",
       "\n",
       "    .dataframe tbody tr th {\n",
       "        vertical-align: top;\n",
       "    }\n",
       "\n",
       "    .dataframe thead th {\n",
       "        text-align: right;\n",
       "    }\n",
       "</style>\n",
       "<table border=\"1\" class=\"dataframe\">\n",
       "  <thead>\n",
       "    <tr style=\"text-align: right;\">\n",
       "      <th></th>\n",
       "      <th>Country</th>\n",
       "      <th>Year</th>\n",
       "      <th>Status</th>\n",
       "      <th>Life expectancy</th>\n",
       "      <th>Adult Mortality</th>\n",
       "      <th>Infant deaths</th>\n",
       "      <th>Alcohol</th>\n",
       "      <th>Healthcare expenditure</th>\n",
       "      <th>Hepatitis B</th>\n",
       "      <th>Measles</th>\n",
       "      <th>...</th>\n",
       "      <th>Polio</th>\n",
       "      <th>Total expenditure</th>\n",
       "      <th>Diphtheria</th>\n",
       "      <th>HIV/AIDS</th>\n",
       "      <th>GDP</th>\n",
       "      <th>Population</th>\n",
       "      <th>Thinness 1-19 years</th>\n",
       "      <th>Thinness 5-9 years</th>\n",
       "      <th>Income</th>\n",
       "      <th>Schooling</th>\n",
       "    </tr>\n",
       "  </thead>\n",
       "  <tbody>\n",
       "    <tr>\n",
       "      <th>0</th>\n",
       "      <td>Afghanistan</td>\n",
       "      <td>2015</td>\n",
       "      <td>0</td>\n",
       "      <td>65.0</td>\n",
       "      <td>263.0</td>\n",
       "      <td>62</td>\n",
       "      <td>0.01</td>\n",
       "      <td>71.279624</td>\n",
       "      <td>65.0</td>\n",
       "      <td>1154</td>\n",
       "      <td>...</td>\n",
       "      <td>6.0</td>\n",
       "      <td>8.16</td>\n",
       "      <td>65.0</td>\n",
       "      <td>0.1</td>\n",
       "      <td>584.259210</td>\n",
       "      <td>33736494.0</td>\n",
       "      <td>17.2</td>\n",
       "      <td>17.3</td>\n",
       "      <td>0.479</td>\n",
       "      <td>10.1</td>\n",
       "    </tr>\n",
       "    <tr>\n",
       "      <th>1</th>\n",
       "      <td>Afghanistan</td>\n",
       "      <td>2014</td>\n",
       "      <td>0</td>\n",
       "      <td>59.9</td>\n",
       "      <td>271.0</td>\n",
       "      <td>64</td>\n",
       "      <td>0.01</td>\n",
       "      <td>73.523582</td>\n",
       "      <td>62.0</td>\n",
       "      <td>492</td>\n",
       "      <td>...</td>\n",
       "      <td>58.0</td>\n",
       "      <td>8.18</td>\n",
       "      <td>62.0</td>\n",
       "      <td>0.1</td>\n",
       "      <td>612.696514</td>\n",
       "      <td>327582.0</td>\n",
       "      <td>17.5</td>\n",
       "      <td>17.5</td>\n",
       "      <td>0.476</td>\n",
       "      <td>10.0</td>\n",
       "    </tr>\n",
       "    <tr>\n",
       "      <th>2</th>\n",
       "      <td>Afghanistan</td>\n",
       "      <td>2013</td>\n",
       "      <td>0</td>\n",
       "      <td>59.9</td>\n",
       "      <td>268.0</td>\n",
       "      <td>66</td>\n",
       "      <td>0.01</td>\n",
       "      <td>73.219243</td>\n",
       "      <td>64.0</td>\n",
       "      <td>430</td>\n",
       "      <td>...</td>\n",
       "      <td>62.0</td>\n",
       "      <td>8.13</td>\n",
       "      <td>64.0</td>\n",
       "      <td>0.1</td>\n",
       "      <td>631.744976</td>\n",
       "      <td>31731688.0</td>\n",
       "      <td>17.7</td>\n",
       "      <td>17.7</td>\n",
       "      <td>0.470</td>\n",
       "      <td>9.9</td>\n",
       "    </tr>\n",
       "    <tr>\n",
       "      <th>3</th>\n",
       "      <td>Afghanistan</td>\n",
       "      <td>2012</td>\n",
       "      <td>0</td>\n",
       "      <td>59.5</td>\n",
       "      <td>272.0</td>\n",
       "      <td>69</td>\n",
       "      <td>0.01</td>\n",
       "      <td>78.184215</td>\n",
       "      <td>67.0</td>\n",
       "      <td>2787</td>\n",
       "      <td>...</td>\n",
       "      <td>67.0</td>\n",
       "      <td>8.52</td>\n",
       "      <td>67.0</td>\n",
       "      <td>0.1</td>\n",
       "      <td>669.959000</td>\n",
       "      <td>3696958.0</td>\n",
       "      <td>17.9</td>\n",
       "      <td>18.0</td>\n",
       "      <td>0.463</td>\n",
       "      <td>9.8</td>\n",
       "    </tr>\n",
       "    <tr>\n",
       "      <th>4</th>\n",
       "      <td>Afghanistan</td>\n",
       "      <td>2011</td>\n",
       "      <td>0</td>\n",
       "      <td>59.2</td>\n",
       "      <td>275.0</td>\n",
       "      <td>71</td>\n",
       "      <td>0.01</td>\n",
       "      <td>7.097109</td>\n",
       "      <td>68.0</td>\n",
       "      <td>3013</td>\n",
       "      <td>...</td>\n",
       "      <td>68.0</td>\n",
       "      <td>7.87</td>\n",
       "      <td>68.0</td>\n",
       "      <td>0.1</td>\n",
       "      <td>63.537231</td>\n",
       "      <td>2978599.0</td>\n",
       "      <td>18.2</td>\n",
       "      <td>18.2</td>\n",
       "      <td>0.454</td>\n",
       "      <td>9.5</td>\n",
       "    </tr>\n",
       "  </tbody>\n",
       "</table>\n",
       "<p>5 rows × 22 columns</p>\n",
       "</div>"
      ],
      "text/plain": [
       "       Country  Year  Status  Life expectancy  Adult Mortality  Infant deaths  \\\n",
       "0  Afghanistan  2015       0             65.0            263.0             62   \n",
       "1  Afghanistan  2014       0             59.9            271.0             64   \n",
       "2  Afghanistan  2013       0             59.9            268.0             66   \n",
       "3  Afghanistan  2012       0             59.5            272.0             69   \n",
       "4  Afghanistan  2011       0             59.2            275.0             71   \n",
       "\n",
       "   Alcohol  Healthcare expenditure  Hepatitis B  Measles  ...  Polio  \\\n",
       "0     0.01               71.279624         65.0     1154  ...    6.0   \n",
       "1     0.01               73.523582         62.0      492  ...   58.0   \n",
       "2     0.01               73.219243         64.0      430  ...   62.0   \n",
       "3     0.01               78.184215         67.0     2787  ...   67.0   \n",
       "4     0.01                7.097109         68.0     3013  ...   68.0   \n",
       "\n",
       "   Total expenditure  Diphtheria  HIV/AIDS         GDP  Population  \\\n",
       "0               8.16        65.0       0.1  584.259210  33736494.0   \n",
       "1               8.18        62.0       0.1  612.696514    327582.0   \n",
       "2               8.13        64.0       0.1  631.744976  31731688.0   \n",
       "3               8.52        67.0       0.1  669.959000   3696958.0   \n",
       "4               7.87        68.0       0.1   63.537231   2978599.0   \n",
       "\n",
       "   Thinness 1-19 years  Thinness 5-9 years  Income  Schooling  \n",
       "0                 17.2                17.3   0.479       10.1  \n",
       "1                 17.5                17.5   0.476       10.0  \n",
       "2                 17.7                17.7   0.470        9.9  \n",
       "3                 17.9                18.0   0.463        9.8  \n",
       "4                 18.2                18.2   0.454        9.5  \n",
       "\n",
       "[5 rows x 22 columns]"
      ]
     },
     "execution_count": 12,
     "metadata": {},
     "output_type": "execute_result"
    }
   ],
   "source": [
    "df.head()"
   ]
  },
  {
   "cell_type": "markdown",
   "metadata": {},
   "source": [
    "<h3>Visualizing the correlation</h3>"
   ]
  },
  {
   "cell_type": "code",
   "execution_count": 13,
   "metadata": {},
   "outputs": [
    {
     "data": {
      "text/plain": [
       "<matplotlib.axes._subplots.AxesSubplot at 0x7f3302c56a20>"
      ]
     },
     "execution_count": 13,
     "metadata": {},
     "output_type": "execute_result"
    },
    {
     "data": {
      "image/png": "[encoded data removed]",
      "text/plain": [
       "<Figure size 432x288 with 1 Axes>"
      ]
     },
     "metadata": {
      "needs_background": "light"
     },
     "output_type": "display_data"
    }
   ],
   "source": [
    "sns.distplot(df['Life expectancy'])"
   ]
  },
  {
   "cell_type": "code",
   "execution_count": 14,
   "metadata": {},
   "outputs": [
    {
     "data": {
      "text/plain": [
       "<matplotlib.axes._subplots.AxesSubplot at 0x7f33028a45c0>"
      ]
     },
     "execution_count": 14,
     "metadata": {},
     "output_type": "execute_result"
    },
    {
     "data": {
      "image/png": "[encoded data removed]",
      "text/plain": [
       "<Figure size 432x288 with 2 Axes>"
      ]
     },
     "metadata": {
      "needs_background": "light"
     },
     "output_type": "display_data"
    }
   ],
   "source": [
    "sns.heatmap(df.corr())"
   ]
  },
  {
   "cell_type": "markdown",
   "metadata": {},
   "source": [
    "<h3>Splitting the dataset</h3>"
   ]
  },
  {
   "cell_type": "code",
   "execution_count": 15,
   "metadata": {},
   "outputs": [],
   "source": [
    "from sklearn.model_selection import train_test_split"
   ]
  },
  {
   "cell_type": "code",
   "execution_count": 16,
   "metadata": {},
   "outputs": [],
   "source": [
    "X = df.drop(['Country', 'Life expectancy'], axis = 1)"
   ]
  },
  {
   "cell_type": "code",
   "execution_count": 17,
   "metadata": {},
   "outputs": [],
   "source": [
    "Y = df['Life expectancy']"
   ]
  },
  {
   "cell_type": "code",
   "execution_count": 18,
   "metadata": {},
   "outputs": [],
   "source": [
    "X_train, X_test, Y_train, Y_test = train_test_split(X, Y, test_size = 0.20, random_state = 5)"
   ]
  },
  {
   "cell_type": "markdown",
   "metadata": {},
   "source": [
    "<h3>Linear regression</h3>"
   ]
  },
  {
   "cell_type": "code",
   "execution_count": 19,
   "metadata": {},
   "outputs": [],
   "source": [
    "from sklearn.linear_model import LinearRegression"
   ]
  },
  {
   "cell_type": "code",
   "execution_count": 20,
   "metadata": {},
   "outputs": [],
   "source": [
    "lreg = LinearRegression()"
   ]
  },
  {
   "cell_type": "code",
   "execution_count": 21,
   "metadata": {},
   "outputs": [
    {
     "data": {
      "text/plain": [
       "LinearRegression(copy_X=True, fit_intercept=True, n_jobs=None,\n",
       "         normalize=False)"
      ]
     },
     "execution_count": 21,
     "metadata": {},
     "output_type": "execute_result"
    }
   ],
   "source": [
    "lreg.fit(X_train, Y_train)"
   ]
  },
  {
   "cell_type": "code",
   "execution_count": 22,
   "metadata": {},
   "outputs": [],
   "source": [
    "lpred = lreg.predict(X_test)"
   ]
  },
  {
   "cell_type": "code",
   "execution_count": 23,
   "metadata": {},
   "outputs": [],
   "source": [
    "from sklearn.metrics import mean_squared_error"
   ]
  },
  {
   "cell_type": "code",
   "execution_count": 24,
   "metadata": {},
   "outputs": [
    {
     "name": "stdout",
     "output_type": "stream",
     "text": [
      "3.9021244402990414\n"
     ]
    }
   ],
   "source": [
    "print(mean_squared_error(Y_test, lpred)**(0.5))"
   ]
  },
  {
   "cell_type": "code",
   "execution_count": 25,
   "metadata": {},
   "outputs": [
    {
     "name": "stdout",
     "output_type": "stream",
     "text": [
      "Training accuracy: 0.8169511754768795\n",
      "Testing accuracy: 0.8294542700921573\n"
     ]
    }
   ],
   "source": [
    "print('Training accuracy:', lreg.score(X_train, Y_train))\n",
    "print('Testing accuracy:', lreg.score(X_test, Y_test))"
   ]
  },
  {
   "cell_type": "code",
   "execution_count": 26,
   "metadata": {},
   "outputs": [],
   "source": [
    "from sklearn.metrics import r2_score"
   ]
  },
  {
   "cell_type": "code",
   "execution_count": 27,
   "metadata": {},
   "outputs": [],
   "source": [
    "lscore = r2_score(Y_test, lpred)"
   ]
  },
  {
   "cell_type": "code",
   "execution_count": 28,
   "metadata": {},
   "outputs": [
    {
     "data": {
      "text/plain": [
       "0.8294542700921573"
      ]
     },
     "execution_count": 28,
     "metadata": {},
     "output_type": "execute_result"
    }
   ],
   "source": [
    "lscore"
   ]
  },
  {
   "cell_type": "markdown",
   "metadata": {},
   "source": [
    "Random forest regressor"
   ]
  },
  {
   "cell_type": "code",
   "execution_count": 29,
   "metadata": {},
   "outputs": [],
   "source": [
    "from sklearn.ensemble import RandomForestRegressor"
   ]
  },
  {
   "cell_type": "code",
   "execution_count": 30,
   "metadata": {},
   "outputs": [],
   "source": [
    "rf = RandomForestRegressor(n_estimators = 60)"
   ]
  },
  {
   "cell_type": "code",
   "execution_count": 31,
   "metadata": {},
   "outputs": [
    {
     "data": {
      "text/plain": [
       "RandomForestRegressor(bootstrap=True, criterion='mse', max_depth=None,\n",
       "           max_features='auto', max_leaf_nodes=None,\n",
       "           min_impurity_decrease=0.0, min_impurity_split=None,\n",
       "           min_samples_leaf=1, min_samples_split=2,\n",
       "           min_weight_fraction_leaf=0.0, n_estimators=60, n_jobs=None,\n",
       "           oob_score=False, random_state=None, verbose=0, warm_start=False)"
      ]
     },
     "execution_count": 31,
     "metadata": {},
     "output_type": "execute_result"
    }
   ],
   "source": [
    "rf.fit(X_train, Y_train)"
   ]
  },
  {
   "cell_type": "code",
   "execution_count": 32,
   "metadata": {},
   "outputs": [],
   "source": [
    "rpred = rf.predict(X_test)"
   ]
  },
  {
   "cell_type": "code",
   "execution_count": 33,
   "metadata": {},
   "outputs": [
    {
     "name": "stdout",
     "output_type": "stream",
     "text": [
      "1.8453772365389667\n"
     ]
    }
   ],
   "source": [
    "print(mean_squared_error(Y_test, rpred)**(0.5))"
   ]
  },
  {
   "cell_type": "code",
   "execution_count": 34,
   "metadata": {},
   "outputs": [
    {
     "name": "stdout",
     "output_type": "stream",
     "text": [
      "Training accuracy: 0.994400979461148\n",
      "Testing accuracy: 0.9618575190396461\n"
     ]
    }
   ],
   "source": [
    "print('Training accuracy:', rf.score(X_train, Y_train))\n",
    "print('Testing accuracy:', rf.score(X_test, Y_test))"
   ]
  },
  {
   "cell_type": "code",
   "execution_count": 35,
   "metadata": {},
   "outputs": [],
   "source": [
    "rscore = r2_score(Y_test, rpred)"
   ]
  },
  {
   "cell_type": "code",
   "execution_count": 190,
   "metadata": {},
   "outputs": [
    {
     "data": {
      "text/plain": [
       "0.962752271867316"
      ]
     },
     "execution_count": 190,
     "metadata": {},
     "output_type": "execute_result"
    }
   ],
   "source": [
    "rscore"
   ]
  },
  {
   "cell_type": "code",
   "execution_count": 188,
   "metadata": {},
   "outputs": [
    {
     "data": {
      "text/plain": [
       "<matplotlib.collections.PathCollection at 0x7fbd6ce0cd68>"
      ]
     },
     "execution_count": 188,
     "metadata": {},
     "output_type": "execute_result"
    },
    {
     "data": {
      "image/png": "[encoded data removed]",
      "text/plain": [
       "<Figure size 432x288 with 1 Axes>"
      ]
     },
     "metadata": {
      "needs_background": "light"
     },
     "output_type": "display_data"
    }
   ],
   "source": [
    "plt.scatter(Y_test, rpred)"
   ]
  },
  {
   "cell_type": "code",
   "execution_count": 191,
   "metadata": {},
   "outputs": [
    {
     "name": "stderr",
     "output_type": "stream",
     "text": [
      "2020-06-05 10:31:39,769 - watson_machine_learning_client.metanames - WARNING - 'AUTHOR_EMAIL' meta prop is deprecated. It will be ignored.\n"
     ]
    }
   ],
   "source": [
    "from watson_machine_learning_client import WatsonMachineLearningAPIClient"
   ]
  },
  {
   "cell_type": "code",
   "execution_count": 193,
   "metadata": {},
   "outputs": [],
   "source": [
    "wml_credentials={\n",
    "  \"apikey\": \"****\",\n",
    "  \"iam_apikey_description\": \"Auto-generated for key ****\",\n",
    "  \"iam_apikey_name\": \"Service credentials-1\",\n",
    "  \"iam_role_crn\": \"crn:v1:bluemix:public:iam::::serviceRole:Writer\",\n",
    "  \"iam_serviceid_crn\": \"crn:v1:bluemix:public:iam-identity::a/5f6defa0a49c4122a78969055da3b492::serviceid:ServiceId-06444e8f-6838-4a18-ad06-3f6020ad74b5\",\n",
    "  \"instance_id\": \"6c3123f4-d786-4828-b436-b26ba30***\",\n",
    "  \"url\": \"https://us-south.ml.cloud.ibm.com\"\n",
    "}"
   ]
  },
  {
   "cell_type": "code",
   "execution_count": 194,
   "metadata": {},
   "outputs": [],
   "source": [
    "client = WatsonMachineLearningAPIClient(wml_credentials)"
   ]
  },
  {
   "cell_type": "code",
   "execution_count": 195,
   "metadata": {},
   "outputs": [],
   "source": [
    "model_props = {client.repository.ModelMetaNames.AUTHOR_NAME: \"Shivani\", \n",
    "               client.repository.ModelMetaNames.AUTHOR_EMAIL: \"shivanichauhan781@gmail.com\", \n",
    "               client.repository.ModelMetaNames.NAME: \"Life Expectancy Model\"}\n",
    "\n",
    "model_artifact=client.repository.store_model(rf, meta_props=model_props)"
   ]
  },
  {
   "cell_type": "code",
   "execution_count": 196,
   "metadata": {},
   "outputs": [
    {
     "name": "stdout",
     "output_type": "stream",
     "text": [
      "------------------------------------  ---------------------  ------------------------  -----------------  -----\n",
      "GUID                                  NAME                   CREATED                   FRAMEWORK          TYPE\n",
      "f16cd1d9-3269-4f29-8ece-fe1e2720e0c7  Life Expectancy Model  2020-06-05T10:31:40.304Z  scikit-learn-0.20  model\n",
      "------------------------------------  ---------------------  ------------------------  -----------------  -----\n"
     ]
    }
   ],
   "source": [
    "client.repository.list()"
   ]
  },
  {
   "cell_type": "code",
   "execution_count": 197,
   "metadata": {},
   "outputs": [],
   "source": [
    "published_model_uid = client.repository.get_model_uid(model_artifact)"
   ]
  },
  {
   "cell_type": "code",
   "execution_count": 198,
   "metadata": {},
   "outputs": [
    {
     "name": "stdout",
     "output_type": "stream",
     "text": [
      "\n",
      "\n",
      "#######################################################################################\n",
      "\n",
      "Synchronous deployment creation for uid: 'f16cd1d9-3269-4f29-8ece-fe1e2720e0c7' started\n",
      "\n",
      "#######################################################################################\n",
      "\n",
      "\n",
      "INITIALIZING\n",
      "DEPLOY_SUCCESS\n",
      "\n",
      "\n",
      "------------------------------------------------------------------------------------------------\n",
      "Successfully finished deployment creation, deployment_uid='f2f8e6c8-82b9-4ee7-865a-0bbc7c231574'\n",
      "------------------------------------------------------------------------------------------------\n",
      "\n",
      "\n"
     ]
    }
   ],
   "source": [
    "deployment = client.deployments.create(published_model_uid, name=\"Life expectancy deployment\")"
   ]
  },
  {
   "cell_type": "code",
   "execution_count": null,
   "metadata": {},
   "outputs": [],
   "source": [
    "scoring_endpoint = client.deployments.get_scoring_url(deployment)"
   ]
  },
  {
   "cell_type": "code",
   "execution_count": null,
   "metadata": {},
   "outputs": [],
   "source": []
  }
 ],
 "metadata": {
  "kernelspec": {
   "display_name": "Python 3",
   "language": "python",
   "name": "python3"
  },
  "language_info": {
   "codemirror_mode": {
    "name": "ipython",
    "version": 3
   },
   "file_extension": ".py",
   "mimetype": "text/x-python",
   "name": "python",
   "nbconvert_exporter": "python",
   "pygments_lexer": "ipython3",
   "version": "3.7.7"
  }
 },
 "nbformat": 4,
 "nbformat_minor": 1
}
